{
  "nbformat": 4,
  "nbformat_minor": 0,
  "metadata": {
    "accelerator": "GPU",
    "colab": {
      "name": "[데이콘][BERT][중복제거없이][oversampling][final][test].ipynb",
      "provenance": [],
      "collapsed_sections": [
        "hGmPibkQKysg",
        "ebSLQrn3iPhP",
        "Bm4f1BQduVBR"
      ],
      "machine_shape": "hm",
      "include_colab_link": true
    },
    "kernelspec": {
      "display_name": "Python 3",
      "name": "python3"
    },
    "widgets": {
      "application/vnd.jupyter.widget-state+json": {
        "4b2a89c669014aff88ac4425692fc025": {
          "model_module": "@jupyter-widgets/controls",
          "model_name": "HBoxModel",
          "state": {
            "_view_name": "HBoxView",
            "_dom_classes": [],
            "_model_name": "HBoxModel",
            "_view_module": "@jupyter-widgets/controls",
            "_model_module_version": "1.5.0",
            "_view_count": null,
            "_view_module_version": "1.5.0",
            "box_style": "",
            "layout": "IPY_MODEL_cff732df4f4b47c58d6d141621acf16b",
            "_model_module": "@jupyter-widgets/controls",
            "children": [
              "IPY_MODEL_45d989f253fc47289c8d03abcfb154a0",
              "IPY_MODEL_7b92d12745504d21993d4110e3d684d3"
            ]
          }
        },
        "cff732df4f4b47c58d6d141621acf16b": {
          "model_module": "@jupyter-widgets/base",
          "model_name": "LayoutModel",
          "state": {
            "_view_name": "LayoutView",
            "grid_template_rows": null,
            "right": null,
            "justify_content": null,
            "_view_module": "@jupyter-widgets/base",
            "overflow": null,
            "_model_module_version": "1.2.0",
            "_view_count": null,
            "flex_flow": null,
            "width": null,
            "min_width": null,
            "border": null,
            "align_items": null,
            "bottom": null,
            "_model_module": "@jupyter-widgets/base",
            "top": null,
            "grid_column": null,
            "overflow_y": null,
            "overflow_x": null,
            "grid_auto_flow": null,
            "grid_area": null,
            "grid_template_columns": null,
            "flex": null,
            "_model_name": "LayoutModel",
            "justify_items": null,
            "grid_row": null,
            "max_height": null,
            "align_content": null,
            "visibility": null,
            "align_self": null,
            "height": null,
            "min_height": null,
            "padding": null,
            "grid_auto_rows": null,
            "grid_gap": null,
            "max_width": null,
            "order": null,
            "_view_module_version": "1.2.0",
            "grid_template_areas": null,
            "object_position": null,
            "object_fit": null,
            "grid_auto_columns": null,
            "margin": null,
            "display": null,
            "left": null
          }
        },
        "45d989f253fc47289c8d03abcfb154a0": {
          "model_module": "@jupyter-widgets/controls",
          "model_name": "FloatProgressModel",
          "state": {
            "_view_name": "ProgressView",
            "style": "IPY_MODEL_481acef03bee4069b810b3b6e0e1c36c",
            "_dom_classes": [],
            "description": "Downloading: 100%",
            "_model_name": "FloatProgressModel",
            "bar_style": "success",
            "max": 371391,
            "_view_module": "@jupyter-widgets/controls",
            "_model_module_version": "1.5.0",
            "value": 371391,
            "_view_count": null,
            "_view_module_version": "1.5.0",
            "orientation": "horizontal",
            "min": 0,
            "description_tooltip": null,
            "_model_module": "@jupyter-widgets/controls",
            "layout": "IPY_MODEL_6752a93015784000af14c08ca37383a7"
          }
        },
        "7b92d12745504d21993d4110e3d684d3": {
          "model_module": "@jupyter-widgets/controls",
          "model_name": "HTMLModel",
          "state": {
            "_view_name": "HTMLView",
            "style": "IPY_MODEL_f890d43ad2e94ca98aa9b112c258d4f1",
            "_dom_classes": [],
            "description": "",
            "_model_name": "HTMLModel",
            "placeholder": "​",
            "_view_module": "@jupyter-widgets/controls",
            "_model_module_version": "1.5.0",
            "value": " 371k/371k [00:07&lt;00:00, 52.2kB/s]",
            "_view_count": null,
            "_view_module_version": "1.5.0",
            "description_tooltip": null,
            "_model_module": "@jupyter-widgets/controls",
            "layout": "IPY_MODEL_9f264dfa1985487eaff9e27c11554bc7"
          }
        },
        "481acef03bee4069b810b3b6e0e1c36c": {
          "model_module": "@jupyter-widgets/controls",
          "model_name": "ProgressStyleModel",
          "state": {
            "_view_name": "StyleView",
            "_model_name": "ProgressStyleModel",
            "description_width": "initial",
            "_view_module": "@jupyter-widgets/base",
            "_model_module_version": "1.5.0",
            "_view_count": null,
            "_view_module_version": "1.2.0",
            "bar_color": null,
            "_model_module": "@jupyter-widgets/controls"
          }
        },
        "6752a93015784000af14c08ca37383a7": {
          "model_module": "@jupyter-widgets/base",
          "model_name": "LayoutModel",
          "state": {
            "_view_name": "LayoutView",
            "grid_template_rows": null,
            "right": null,
            "justify_content": null,
            "_view_module": "@jupyter-widgets/base",
            "overflow": null,
            "_model_module_version": "1.2.0",
            "_view_count": null,
            "flex_flow": null,
            "width": null,
            "min_width": null,
            "border": null,
            "align_items": null,
            "bottom": null,
            "_model_module": "@jupyter-widgets/base",
            "top": null,
            "grid_column": null,
            "overflow_y": null,
            "overflow_x": null,
            "grid_auto_flow": null,
            "grid_area": null,
            "grid_template_columns": null,
            "flex": null,
            "_model_name": "LayoutModel",
            "justify_items": null,
            "grid_row": null,
            "max_height": null,
            "align_content": null,
            "visibility": null,
            "align_self": null,
            "height": null,
            "min_height": null,
            "padding": null,
            "grid_auto_rows": null,
            "grid_gap": null,
            "max_width": null,
            "order": null,
            "_view_module_version": "1.2.0",
            "grid_template_areas": null,
            "object_position": null,
            "object_fit": null,
            "grid_auto_columns": null,
            "margin": null,
            "display": null,
            "left": null
          }
        },
        "f890d43ad2e94ca98aa9b112c258d4f1": {
          "model_module": "@jupyter-widgets/controls",
          "model_name": "DescriptionStyleModel",
          "state": {
            "_view_name": "StyleView",
            "_model_name": "DescriptionStyleModel",
            "description_width": "",
            "_view_module": "@jupyter-widgets/base",
            "_model_module_version": "1.5.0",
            "_view_count": null,
            "_view_module_version": "1.2.0",
            "_model_module": "@jupyter-widgets/controls"
          }
        },
        "9f264dfa1985487eaff9e27c11554bc7": {
          "model_module": "@jupyter-widgets/base",
          "model_name": "LayoutModel",
          "state": {
            "_view_name": "LayoutView",
            "grid_template_rows": null,
            "right": null,
            "justify_content": null,
            "_view_module": "@jupyter-widgets/base",
            "overflow": null,
            "_model_module_version": "1.2.0",
            "_view_count": null,
            "flex_flow": null,
            "width": null,
            "min_width": null,
            "border": null,
            "align_items": null,
            "bottom": null,
            "_model_module": "@jupyter-widgets/base",
            "top": null,
            "grid_column": null,
            "overflow_y": null,
            "overflow_x": null,
            "grid_auto_flow": null,
            "grid_area": null,
            "grid_template_columns": null,
            "flex": null,
            "_model_name": "LayoutModel",
            "justify_items": null,
            "grid_row": null,
            "max_height": null,
            "align_content": null,
            "visibility": null,
            "align_self": null,
            "height": null,
            "min_height": null,
            "padding": null,
            "grid_auto_rows": null,
            "grid_gap": null,
            "max_width": null,
            "order": null,
            "_view_module_version": "1.2.0",
            "grid_template_areas": null,
            "object_position": null,
            "object_fit": null,
            "grid_auto_columns": null,
            "margin": null,
            "display": null,
            "left": null
          }
        },
        "8fe5f6c014d34ba094c3141f43a071fd": {
          "model_module": "@jupyter-widgets/controls",
          "model_name": "HBoxModel",
          "state": {
            "_view_name": "HBoxView",
            "_dom_classes": [],
            "_model_name": "HBoxModel",
            "_view_module": "@jupyter-widgets/controls",
            "_model_module_version": "1.5.0",
            "_view_count": null,
            "_view_module_version": "1.5.0",
            "box_style": "",
            "layout": "IPY_MODEL_21a51e00b62749e79495417ff72472ae",
            "_model_module": "@jupyter-widgets/controls",
            "children": [
              "IPY_MODEL_4d9b99f8bf8c40928ba13653fc948c01",
              "IPY_MODEL_608bf043949f47d1a2e420769434995a"
            ]
          }
        },
        "21a51e00b62749e79495417ff72472ae": {
          "model_module": "@jupyter-widgets/base",
          "model_name": "LayoutModel",
          "state": {
            "_view_name": "LayoutView",
            "grid_template_rows": null,
            "right": null,
            "justify_content": null,
            "_view_module": "@jupyter-widgets/base",
            "overflow": null,
            "_model_module_version": "1.2.0",
            "_view_count": null,
            "flex_flow": null,
            "width": null,
            "min_width": null,
            "border": null,
            "align_items": null,
            "bottom": null,
            "_model_module": "@jupyter-widgets/base",
            "top": null,
            "grid_column": null,
            "overflow_y": null,
            "overflow_x": null,
            "grid_auto_flow": null,
            "grid_area": null,
            "grid_template_columns": null,
            "flex": null,
            "_model_name": "LayoutModel",
            "justify_items": null,
            "grid_row": null,
            "max_height": null,
            "align_content": null,
            "visibility": null,
            "align_self": null,
            "height": null,
            "min_height": null,
            "padding": null,
            "grid_auto_rows": null,
            "grid_gap": null,
            "max_width": null,
            "order": null,
            "_view_module_version": "1.2.0",
            "grid_template_areas": null,
            "object_position": null,
            "object_fit": null,
            "grid_auto_columns": null,
            "margin": null,
            "display": null,
            "left": null
          }
        },
        "4d9b99f8bf8c40928ba13653fc948c01": {
          "model_module": "@jupyter-widgets/controls",
          "model_name": "FloatProgressModel",
          "state": {
            "_view_name": "ProgressView",
            "style": "IPY_MODEL_217510a428f541eebeae4c8c2a3e8e60",
            "_dom_classes": [],
            "description": "Downloading: 100%",
            "_model_name": "FloatProgressModel",
            "bar_style": "success",
            "max": 77779,
            "_view_module": "@jupyter-widgets/controls",
            "_model_module_version": "1.5.0",
            "value": 77779,
            "_view_count": null,
            "_view_module_version": "1.5.0",
            "orientation": "horizontal",
            "min": 0,
            "description_tooltip": null,
            "_model_module": "@jupyter-widgets/controls",
            "layout": "IPY_MODEL_aa8e5efac63543d7973ea1dc3abd6b02"
          }
        },
        "608bf043949f47d1a2e420769434995a": {
          "model_module": "@jupyter-widgets/controls",
          "model_name": "HTMLModel",
          "state": {
            "_view_name": "HTMLView",
            "style": "IPY_MODEL_f160101ac8214bbd92f3b714ec99cc04",
            "_dom_classes": [],
            "description": "",
            "_model_name": "HTMLModel",
            "placeholder": "​",
            "_view_module": "@jupyter-widgets/controls",
            "_model_module_version": "1.5.0",
            "value": " 77.8k/77.8k [00:00&lt;00:00, 102kB/s]",
            "_view_count": null,
            "_view_module_version": "1.5.0",
            "description_tooltip": null,
            "_model_module": "@jupyter-widgets/controls",
            "layout": "IPY_MODEL_682e2eb359854150ac7c6c35d69412cb"
          }
        },
        "217510a428f541eebeae4c8c2a3e8e60": {
          "model_module": "@jupyter-widgets/controls",
          "model_name": "ProgressStyleModel",
          "state": {
            "_view_name": "StyleView",
            "_model_name": "ProgressStyleModel",
            "description_width": "initial",
            "_view_module": "@jupyter-widgets/base",
            "_model_module_version": "1.5.0",
            "_view_count": null,
            "_view_module_version": "1.2.0",
            "bar_color": null,
            "_model_module": "@jupyter-widgets/controls"
          }
        },
        "aa8e5efac63543d7973ea1dc3abd6b02": {
          "model_module": "@jupyter-widgets/base",
          "model_name": "LayoutModel",
          "state": {
            "_view_name": "LayoutView",
            "grid_template_rows": null,
            "right": null,
            "justify_content": null,
            "_view_module": "@jupyter-widgets/base",
            "overflow": null,
            "_model_module_version": "1.2.0",
            "_view_count": null,
            "flex_flow": null,
            "width": null,
            "min_width": null,
            "border": null,
            "align_items": null,
            "bottom": null,
            "_model_module": "@jupyter-widgets/base",
            "top": null,
            "grid_column": null,
            "overflow_y": null,
            "overflow_x": null,
            "grid_auto_flow": null,
            "grid_area": null,
            "grid_template_columns": null,
            "flex": null,
            "_model_name": "LayoutModel",
            "justify_items": null,
            "grid_row": null,
            "max_height": null,
            "align_content": null,
            "visibility": null,
            "align_self": null,
            "height": null,
            "min_height": null,
            "padding": null,
            "grid_auto_rows": null,
            "grid_gap": null,
            "max_width": null,
            "order": null,
            "_view_module_version": "1.2.0",
            "grid_template_areas": null,
            "object_position": null,
            "object_fit": null,
            "grid_auto_columns": null,
            "margin": null,
            "display": null,
            "left": null
          }
        },
        "f160101ac8214bbd92f3b714ec99cc04": {
          "model_module": "@jupyter-widgets/controls",
          "model_name": "DescriptionStyleModel",
          "state": {
            "_view_name": "StyleView",
            "_model_name": "DescriptionStyleModel",
            "description_width": "",
            "_view_module": "@jupyter-widgets/base",
            "_model_module_version": "1.5.0",
            "_view_count": null,
            "_view_module_version": "1.2.0",
            "_model_module": "@jupyter-widgets/controls"
          }
        },
        "682e2eb359854150ac7c6c35d69412cb": {
          "model_module": "@jupyter-widgets/base",
          "model_name": "LayoutModel",
          "state": {
            "_view_name": "LayoutView",
            "grid_template_rows": null,
            "right": null,
            "justify_content": null,
            "_view_module": "@jupyter-widgets/base",
            "overflow": null,
            "_model_module_version": "1.2.0",
            "_view_count": null,
            "flex_flow": null,
            "width": null,
            "min_width": null,
            "border": null,
            "align_items": null,
            "bottom": null,
            "_model_module": "@jupyter-widgets/base",
            "top": null,
            "grid_column": null,
            "overflow_y": null,
            "overflow_x": null,
            "grid_auto_flow": null,
            "grid_area": null,
            "grid_template_columns": null,
            "flex": null,
            "_model_name": "LayoutModel",
            "justify_items": null,
            "grid_row": null,
            "max_height": null,
            "align_content": null,
            "visibility": null,
            "align_self": null,
            "height": null,
            "min_height": null,
            "padding": null,
            "grid_auto_rows": null,
            "grid_gap": null,
            "max_width": null,
            "order": null,
            "_view_module_version": "1.2.0",
            "grid_template_areas": null,
            "object_position": null,
            "object_fit": null,
            "grid_auto_columns": null,
            "margin": null,
            "display": null,
            "left": null
          }
        },
        "d6bfc8487a6c495cb16d46e1d00a5b34": {
          "model_module": "@jupyter-widgets/controls",
          "model_name": "HBoxModel",
          "state": {
            "_view_name": "HBoxView",
            "_dom_classes": [],
            "_model_name": "HBoxModel",
            "_view_module": "@jupyter-widgets/controls",
            "_model_module_version": "1.5.0",
            "_view_count": null,
            "_view_module_version": "1.5.0",
            "box_style": "",
            "layout": "IPY_MODEL_2f08b13e518849ba9c3cfd26f8dc7119",
            "_model_module": "@jupyter-widgets/controls",
            "children": [
              "IPY_MODEL_260a0d1622724662845e0432a3c6489f",
              "IPY_MODEL_606bf1600cde42978722427646bc9fa7"
            ]
          }
        },
        "2f08b13e518849ba9c3cfd26f8dc7119": {
          "model_module": "@jupyter-widgets/base",
          "model_name": "LayoutModel",
          "state": {
            "_view_name": "LayoutView",
            "grid_template_rows": null,
            "right": null,
            "justify_content": null,
            "_view_module": "@jupyter-widgets/base",
            "overflow": null,
            "_model_module_version": "1.2.0",
            "_view_count": null,
            "flex_flow": null,
            "width": null,
            "min_width": null,
            "border": null,
            "align_items": null,
            "bottom": null,
            "_model_module": "@jupyter-widgets/base",
            "top": null,
            "grid_column": null,
            "overflow_y": null,
            "overflow_x": null,
            "grid_auto_flow": null,
            "grid_area": null,
            "grid_template_columns": null,
            "flex": null,
            "_model_name": "LayoutModel",
            "justify_items": null,
            "grid_row": null,
            "max_height": null,
            "align_content": null,
            "visibility": null,
            "align_self": null,
            "height": null,
            "min_height": null,
            "padding": null,
            "grid_auto_rows": null,
            "grid_gap": null,
            "max_width": null,
            "order": null,
            "_view_module_version": "1.2.0",
            "grid_template_areas": null,
            "object_position": null,
            "object_fit": null,
            "grid_auto_columns": null,
            "margin": null,
            "display": null,
            "left": null
          }
        },
        "260a0d1622724662845e0432a3c6489f": {
          "model_module": "@jupyter-widgets/controls",
          "model_name": "FloatProgressModel",
          "state": {
            "_view_name": "ProgressView",
            "style": "IPY_MODEL_1409aa68e1c44f78adcb8370f3e2d0b7",
            "_dom_classes": [],
            "description": "Downloading: 100%",
            "_model_name": "FloatProgressModel",
            "bar_style": "success",
            "max": 426,
            "_view_module": "@jupyter-widgets/controls",
            "_model_module_version": "1.5.0",
            "value": 426,
            "_view_count": null,
            "_view_module_version": "1.5.0",
            "orientation": "horizontal",
            "min": 0,
            "description_tooltip": null,
            "_model_module": "@jupyter-widgets/controls",
            "layout": "IPY_MODEL_b8c48883b72e4f5ebfdcfed7409a02d6"
          }
        },
        "606bf1600cde42978722427646bc9fa7": {
          "model_module": "@jupyter-widgets/controls",
          "model_name": "HTMLModel",
          "state": {
            "_view_name": "HTMLView",
            "style": "IPY_MODEL_2531d7afa20647baad603b4e568c6998",
            "_dom_classes": [],
            "description": "",
            "_model_name": "HTMLModel",
            "placeholder": "​",
            "_view_module": "@jupyter-widgets/controls",
            "_model_module_version": "1.5.0",
            "value": " 426/426 [00:05&lt;00:00, 81.8B/s]",
            "_view_count": null,
            "_view_module_version": "1.5.0",
            "description_tooltip": null,
            "_model_module": "@jupyter-widgets/controls",
            "layout": "IPY_MODEL_dd701d6656934760baab8780fd6970ba"
          }
        },
        "1409aa68e1c44f78adcb8370f3e2d0b7": {
          "model_module": "@jupyter-widgets/controls",
          "model_name": "ProgressStyleModel",
          "state": {
            "_view_name": "StyleView",
            "_model_name": "ProgressStyleModel",
            "description_width": "initial",
            "_view_module": "@jupyter-widgets/base",
            "_model_module_version": "1.5.0",
            "_view_count": null,
            "_view_module_version": "1.2.0",
            "bar_color": null,
            "_model_module": "@jupyter-widgets/controls"
          }
        },
        "b8c48883b72e4f5ebfdcfed7409a02d6": {
          "model_module": "@jupyter-widgets/base",
          "model_name": "LayoutModel",
          "state": {
            "_view_name": "LayoutView",
            "grid_template_rows": null,
            "right": null,
            "justify_content": null,
            "_view_module": "@jupyter-widgets/base",
            "overflow": null,
            "_model_module_version": "1.2.0",
            "_view_count": null,
            "flex_flow": null,
            "width": null,
            "min_width": null,
            "border": null,
            "align_items": null,
            "bottom": null,
            "_model_module": "@jupyter-widgets/base",
            "top": null,
            "grid_column": null,
            "overflow_y": null,
            "overflow_x": null,
            "grid_auto_flow": null,
            "grid_area": null,
            "grid_template_columns": null,
            "flex": null,
            "_model_name": "LayoutModel",
            "justify_items": null,
            "grid_row": null,
            "max_height": null,
            "align_content": null,
            "visibility": null,
            "align_self": null,
            "height": null,
            "min_height": null,
            "padding": null,
            "grid_auto_rows": null,
            "grid_gap": null,
            "max_width": null,
            "order": null,
            "_view_module_version": "1.2.0",
            "grid_template_areas": null,
            "object_position": null,
            "object_fit": null,
            "grid_auto_columns": null,
            "margin": null,
            "display": null,
            "left": null
          }
        },
        "2531d7afa20647baad603b4e568c6998": {
          "model_module": "@jupyter-widgets/controls",
          "model_name": "DescriptionStyleModel",
          "state": {
            "_view_name": "StyleView",
            "_model_name": "DescriptionStyleModel",
            "description_width": "",
            "_view_module": "@jupyter-widgets/base",
            "_model_module_version": "1.5.0",
            "_view_count": null,
            "_view_module_version": "1.2.0",
            "_model_module": "@jupyter-widgets/controls"
          }
        },
        "dd701d6656934760baab8780fd6970ba": {
          "model_module": "@jupyter-widgets/base",
          "model_name": "LayoutModel",
          "state": {
            "_view_name": "LayoutView",
            "grid_template_rows": null,
            "right": null,
            "justify_content": null,
            "_view_module": "@jupyter-widgets/base",
            "overflow": null,
            "_model_module_version": "1.2.0",
            "_view_count": null,
            "flex_flow": null,
            "width": null,
            "min_width": null,
            "border": null,
            "align_items": null,
            "bottom": null,
            "_model_module": "@jupyter-widgets/base",
            "top": null,
            "grid_column": null,
            "overflow_y": null,
            "overflow_x": null,
            "grid_auto_flow": null,
            "grid_area": null,
            "grid_template_columns": null,
            "flex": null,
            "_model_name": "LayoutModel",
            "justify_items": null,
            "grid_row": null,
            "max_height": null,
            "align_content": null,
            "visibility": null,
            "align_self": null,
            "height": null,
            "min_height": null,
            "padding": null,
            "grid_auto_rows": null,
            "grid_gap": null,
            "max_width": null,
            "order": null,
            "_view_module_version": "1.2.0",
            "grid_template_areas": null,
            "object_position": null,
            "object_fit": null,
            "grid_auto_columns": null,
            "margin": null,
            "display": null,
            "left": null
          }
        },
        "80b28796973f43358b43ffcc2f77895c": {
          "model_module": "@jupyter-widgets/controls",
          "model_name": "HBoxModel",
          "state": {
            "_view_name": "HBoxView",
            "_dom_classes": [],
            "_model_name": "HBoxModel",
            "_view_module": "@jupyter-widgets/controls",
            "_model_module_version": "1.5.0",
            "_view_count": null,
            "_view_module_version": "1.5.0",
            "box_style": "",
            "layout": "IPY_MODEL_3a1282a88871406ebb4f0509332a3020",
            "_model_module": "@jupyter-widgets/controls",
            "children": [
              "IPY_MODEL_a6b5c0074f16404292ae981008589c9f",
              "IPY_MODEL_c4f5c49ea6834a33bed83850d04a3eca"
            ]
          }
        },
        "3a1282a88871406ebb4f0509332a3020": {
          "model_module": "@jupyter-widgets/base",
          "model_name": "LayoutModel",
          "state": {
            "_view_name": "LayoutView",
            "grid_template_rows": null,
            "right": null,
            "justify_content": null,
            "_view_module": "@jupyter-widgets/base",
            "overflow": null,
            "_model_module_version": "1.2.0",
            "_view_count": null,
            "flex_flow": null,
            "width": null,
            "min_width": null,
            "border": null,
            "align_items": null,
            "bottom": null,
            "_model_module": "@jupyter-widgets/base",
            "top": null,
            "grid_column": null,
            "overflow_y": null,
            "overflow_x": null,
            "grid_auto_flow": null,
            "grid_area": null,
            "grid_template_columns": null,
            "flex": null,
            "_model_name": "LayoutModel",
            "justify_items": null,
            "grid_row": null,
            "max_height": null,
            "align_content": null,
            "visibility": null,
            "align_self": null,
            "height": null,
            "min_height": null,
            "padding": null,
            "grid_auto_rows": null,
            "grid_gap": null,
            "max_width": null,
            "order": null,
            "_view_module_version": "1.2.0",
            "grid_template_areas": null,
            "object_position": null,
            "object_fit": null,
            "grid_auto_columns": null,
            "margin": null,
            "display": null,
            "left": null
          }
        },
        "a6b5c0074f16404292ae981008589c9f": {
          "model_module": "@jupyter-widgets/controls",
          "model_name": "FloatProgressModel",
          "state": {
            "_view_name": "ProgressView",
            "style": "IPY_MODEL_36ba0e3d4a8f4bc8a5051b9e6915d545",
            "_dom_classes": [],
            "description": "Downloading: 100%",
            "_model_name": "FloatProgressModel",
            "bar_style": "success",
            "max": 368792146,
            "_view_module": "@jupyter-widgets/controls",
            "_model_module_version": "1.5.0",
            "value": 368792146,
            "_view_count": null,
            "_view_module_version": "1.5.0",
            "orientation": "horizontal",
            "min": 0,
            "description_tooltip": null,
            "_model_module": "@jupyter-widgets/controls",
            "layout": "IPY_MODEL_62380ed204ec4f2db434c6546c3a6e6e"
          }
        },
        "c4f5c49ea6834a33bed83850d04a3eca": {
          "model_module": "@jupyter-widgets/controls",
          "model_name": "HTMLModel",
          "state": {
            "_view_name": "HTMLView",
            "style": "IPY_MODEL_47cefd163a6f4cb6a8c92373a1b5252e",
            "_dom_classes": [],
            "description": "",
            "_model_name": "HTMLModel",
            "placeholder": "​",
            "_view_module": "@jupyter-widgets/controls",
            "_model_module_version": "1.5.0",
            "value": " 369M/369M [00:04&lt;00:00, 86.4MB/s]",
            "_view_count": null,
            "_view_module_version": "1.5.0",
            "description_tooltip": null,
            "_model_module": "@jupyter-widgets/controls",
            "layout": "IPY_MODEL_dce22d8afbaf42c5b0487494e082f529"
          }
        },
        "36ba0e3d4a8f4bc8a5051b9e6915d545": {
          "model_module": "@jupyter-widgets/controls",
          "model_name": "ProgressStyleModel",
          "state": {
            "_view_name": "StyleView",
            "_model_name": "ProgressStyleModel",
            "description_width": "initial",
            "_view_module": "@jupyter-widgets/base",
            "_model_module_version": "1.5.0",
            "_view_count": null,
            "_view_module_version": "1.2.0",
            "bar_color": null,
            "_model_module": "@jupyter-widgets/controls"
          }
        },
        "62380ed204ec4f2db434c6546c3a6e6e": {
          "model_module": "@jupyter-widgets/base",
          "model_name": "LayoutModel",
          "state": {
            "_view_name": "LayoutView",
            "grid_template_rows": null,
            "right": null,
            "justify_content": null,
            "_view_module": "@jupyter-widgets/base",
            "overflow": null,
            "_model_module_version": "1.2.0",
            "_view_count": null,
            "flex_flow": null,
            "width": null,
            "min_width": null,
            "border": null,
            "align_items": null,
            "bottom": null,
            "_model_module": "@jupyter-widgets/base",
            "top": null,
            "grid_column": null,
            "overflow_y": null,
            "overflow_x": null,
            "grid_auto_flow": null,
            "grid_area": null,
            "grid_template_columns": null,
            "flex": null,
            "_model_name": "LayoutModel",
            "justify_items": null,
            "grid_row": null,
            "max_height": null,
            "align_content": null,
            "visibility": null,
            "align_self": null,
            "height": null,
            "min_height": null,
            "padding": null,
            "grid_auto_rows": null,
            "grid_gap": null,
            "max_width": null,
            "order": null,
            "_view_module_version": "1.2.0",
            "grid_template_areas": null,
            "object_position": null,
            "object_fit": null,
            "grid_auto_columns": null,
            "margin": null,
            "display": null,
            "left": null
          }
        },
        "47cefd163a6f4cb6a8c92373a1b5252e": {
          "model_module": "@jupyter-widgets/controls",
          "model_name": "DescriptionStyleModel",
          "state": {
            "_view_name": "StyleView",
            "_model_name": "DescriptionStyleModel",
            "description_width": "",
            "_view_module": "@jupyter-widgets/base",
            "_model_module_version": "1.5.0",
            "_view_count": null,
            "_view_module_version": "1.2.0",
            "_model_module": "@jupyter-widgets/controls"
          }
        },
        "dce22d8afbaf42c5b0487494e082f529": {
          "model_module": "@jupyter-widgets/base",
          "model_name": "LayoutModel",
          "state": {
            "_view_name": "LayoutView",
            "grid_template_rows": null,
            "right": null,
            "justify_content": null,
            "_view_module": "@jupyter-widgets/base",
            "overflow": null,
            "_model_module_version": "1.2.0",
            "_view_count": null,
            "flex_flow": null,
            "width": null,
            "min_width": null,
            "border": null,
            "align_items": null,
            "bottom": null,
            "_model_module": "@jupyter-widgets/base",
            "top": null,
            "grid_column": null,
            "overflow_y": null,
            "overflow_x": null,
            "grid_auto_flow": null,
            "grid_area": null,
            "grid_template_columns": null,
            "flex": null,
            "_model_name": "LayoutModel",
            "justify_items": null,
            "grid_row": null,
            "max_height": null,
            "align_content": null,
            "visibility": null,
            "align_self": null,
            "height": null,
            "min_height": null,
            "padding": null,
            "grid_auto_rows": null,
            "grid_gap": null,
            "max_width": null,
            "order": null,
            "_view_module_version": "1.2.0",
            "grid_template_areas": null,
            "object_position": null,
            "object_fit": null,
            "grid_auto_columns": null,
            "margin": null,
            "display": null,
            "left": null
          }
        }
      }
    }
  },
  "cells": [
    {
      "cell_type": "markdown",
      "metadata": {
        "id": "view-in-github",
        "colab_type": "text"
      },
      "source": [
        "<a href=\"https://colab.research.google.com/github/Chuck2Win/NH_project/blob/main/%5BTEST%5D.ipynb\" target=\"_parent\"><img src=\"https://colab.research.google.com/assets/colab-badge.svg\" alt=\"Open In Colab\"/></a>"
      ]
    },
    {
      "cell_type": "code",
      "metadata": {
        "id": "CpsI3-IR70wC",
        "colab": {
          "base_uri": "https://localhost:8080/"
        },
        "outputId": "f4ad7024-877b-428e-8aad-487cb02e89d1"
      },
      "source": [
        "! pip3 install transformers\r\n",
        "! pip3 install imbalanced-learn\r\n",
        "! pip3 install kobert-transformers\r\n",
        "! pip3 install sentencepiece"
      ],
      "execution_count": 1,
      "outputs": [
        {
          "output_type": "stream",
          "text": [
            "Collecting transformers\n",
            "\u001b[?25l  Downloading https://files.pythonhosted.org/packages/88/b1/41130a228dd656a1a31ba281598a968320283f48d42782845f6ba567f00b/transformers-4.2.2-py3-none-any.whl (1.8MB)\n",
            "\r\u001b[K     |▏                               | 10kB 20.7MB/s eta 0:00:01\r\u001b[K     |▍                               | 20kB 29.3MB/s eta 0:00:01\r\u001b[K     |▋                               | 30kB 26.1MB/s eta 0:00:01\r\u001b[K     |▊                               | 40kB 18.8MB/s eta 0:00:01\r\u001b[K     |█                               | 51kB 16.0MB/s eta 0:00:01\r\u001b[K     |█▏                              | 61kB 14.7MB/s eta 0:00:01\r\u001b[K     |█▎                              | 71kB 14.0MB/s eta 0:00:01\r\u001b[K     |█▌                              | 81kB 13.6MB/s eta 0:00:01\r\u001b[K     |█▊                              | 92kB 13.4MB/s eta 0:00:01\r\u001b[K     |█▉                              | 102kB 13.1MB/s eta 0:00:01\r\u001b[K     |██                              | 112kB 13.1MB/s eta 0:00:01\r\u001b[K     |██▎                             | 122kB 13.1MB/s eta 0:00:01\r\u001b[K     |██▍                             | 133kB 13.1MB/s eta 0:00:01\r\u001b[K     |██▋                             | 143kB 13.1MB/s eta 0:00:01\r\u001b[K     |██▉                             | 153kB 13.1MB/s eta 0:00:01\r\u001b[K     |███                             | 163kB 13.1MB/s eta 0:00:01\r\u001b[K     |███▏                            | 174kB 13.1MB/s eta 0:00:01\r\u001b[K     |███▍                            | 184kB 13.1MB/s eta 0:00:01\r\u001b[K     |███▌                            | 194kB 13.1MB/s eta 0:00:01\r\u001b[K     |███▊                            | 204kB 13.1MB/s eta 0:00:01\r\u001b[K     |████                            | 215kB 13.1MB/s eta 0:00:01\r\u001b[K     |████                            | 225kB 13.1MB/s eta 0:00:01\r\u001b[K     |████▎                           | 235kB 13.1MB/s eta 0:00:01\r\u001b[K     |████▌                           | 245kB 13.1MB/s eta 0:00:01\r\u001b[K     |████▋                           | 256kB 13.1MB/s eta 0:00:01\r\u001b[K     |████▉                           | 266kB 13.1MB/s eta 0:00:01\r\u001b[K     |█████                           | 276kB 13.1MB/s eta 0:00:01\r\u001b[K     |█████▏                          | 286kB 13.1MB/s eta 0:00:01\r\u001b[K     |█████▍                          | 296kB 13.1MB/s eta 0:00:01\r\u001b[K     |█████▋                          | 307kB 13.1MB/s eta 0:00:01\r\u001b[K     |█████▊                          | 317kB 13.1MB/s eta 0:00:01\r\u001b[K     |██████                          | 327kB 13.1MB/s eta 0:00:01\r\u001b[K     |██████▏                         | 337kB 13.1MB/s eta 0:00:01\r\u001b[K     |██████▎                         | 348kB 13.1MB/s eta 0:00:01\r\u001b[K     |██████▌                         | 358kB 13.1MB/s eta 0:00:01\r\u001b[K     |██████▊                         | 368kB 13.1MB/s eta 0:00:01\r\u001b[K     |██████▉                         | 378kB 13.1MB/s eta 0:00:01\r\u001b[K     |███████                         | 389kB 13.1MB/s eta 0:00:01\r\u001b[K     |███████▎                        | 399kB 13.1MB/s eta 0:00:01\r\u001b[K     |███████▍                        | 409kB 13.1MB/s eta 0:00:01\r\u001b[K     |███████▋                        | 419kB 13.1MB/s eta 0:00:01\r\u001b[K     |███████▉                        | 430kB 13.1MB/s eta 0:00:01\r\u001b[K     |████████                        | 440kB 13.1MB/s eta 0:00:01\r\u001b[K     |████████▏                       | 450kB 13.1MB/s eta 0:00:01\r\u001b[K     |████████▍                       | 460kB 13.1MB/s eta 0:00:01\r\u001b[K     |████████▌                       | 471kB 13.1MB/s eta 0:00:01\r\u001b[K     |████████▊                       | 481kB 13.1MB/s eta 0:00:01\r\u001b[K     |█████████                       | 491kB 13.1MB/s eta 0:00:01\r\u001b[K     |█████████                       | 501kB 13.1MB/s eta 0:00:01\r\u001b[K     |█████████▎                      | 512kB 13.1MB/s eta 0:00:01\r\u001b[K     |█████████▌                      | 522kB 13.1MB/s eta 0:00:01\r\u001b[K     |█████████▋                      | 532kB 13.1MB/s eta 0:00:01\r\u001b[K     |█████████▉                      | 542kB 13.1MB/s eta 0:00:01\r\u001b[K     |██████████                      | 552kB 13.1MB/s eta 0:00:01\r\u001b[K     |██████████▏                     | 563kB 13.1MB/s eta 0:00:01\r\u001b[K     |██████████▍                     | 573kB 13.1MB/s eta 0:00:01\r\u001b[K     |██████████▋                     | 583kB 13.1MB/s eta 0:00:01\r\u001b[K     |██████████▊                     | 593kB 13.1MB/s eta 0:00:01\r\u001b[K     |███████████                     | 604kB 13.1MB/s eta 0:00:01\r\u001b[K     |███████████▏                    | 614kB 13.1MB/s eta 0:00:01\r\u001b[K     |███████████▎                    | 624kB 13.1MB/s eta 0:00:01\r\u001b[K     |███████████▌                    | 634kB 13.1MB/s eta 0:00:01\r\u001b[K     |███████████▊                    | 645kB 13.1MB/s eta 0:00:01\r\u001b[K     |███████████▉                    | 655kB 13.1MB/s eta 0:00:01\r\u001b[K     |████████████                    | 665kB 13.1MB/s eta 0:00:01\r\u001b[K     |████████████▎                   | 675kB 13.1MB/s eta 0:00:01\r\u001b[K     |████████████▍                   | 686kB 13.1MB/s eta 0:00:01\r\u001b[K     |████████████▋                   | 696kB 13.1MB/s eta 0:00:01\r\u001b[K     |████████████▉                   | 706kB 13.1MB/s eta 0:00:01\r\u001b[K     |█████████████                   | 716kB 13.1MB/s eta 0:00:01\r\u001b[K     |█████████████▏                  | 727kB 13.1MB/s eta 0:00:01\r\u001b[K     |█████████████▍                  | 737kB 13.1MB/s eta 0:00:01\r\u001b[K     |█████████████▌                  | 747kB 13.1MB/s eta 0:00:01\r\u001b[K     |█████████████▊                  | 757kB 13.1MB/s eta 0:00:01\r\u001b[K     |██████████████                  | 768kB 13.1MB/s eta 0:00:01\r\u001b[K     |██████████████                  | 778kB 13.1MB/s eta 0:00:01\r\u001b[K     |██████████████▎                 | 788kB 13.1MB/s eta 0:00:01\r\u001b[K     |██████████████▌                 | 798kB 13.1MB/s eta 0:00:01\r\u001b[K     |██████████████▋                 | 808kB 13.1MB/s eta 0:00:01\r\u001b[K     |██████████████▉                 | 819kB 13.1MB/s eta 0:00:01\r\u001b[K     |███████████████                 | 829kB 13.1MB/s eta 0:00:01\r\u001b[K     |███████████████▏                | 839kB 13.1MB/s eta 0:00:01\r\u001b[K     |███████████████▍                | 849kB 13.1MB/s eta 0:00:01\r\u001b[K     |███████████████▋                | 860kB 13.1MB/s eta 0:00:01\r\u001b[K     |███████████████▊                | 870kB 13.1MB/s eta 0:00:01\r\u001b[K     |████████████████                | 880kB 13.1MB/s eta 0:00:01\r\u001b[K     |████████████████▏               | 890kB 13.1MB/s eta 0:00:01\r\u001b[K     |████████████████▎               | 901kB 13.1MB/s eta 0:00:01\r\u001b[K     |████████████████▌               | 911kB 13.1MB/s eta 0:00:01\r\u001b[K     |████████████████▊               | 921kB 13.1MB/s eta 0:00:01\r\u001b[K     |████████████████▉               | 931kB 13.1MB/s eta 0:00:01\r\u001b[K     |█████████████████               | 942kB 13.1MB/s eta 0:00:01\r\u001b[K     |█████████████████▎              | 952kB 13.1MB/s eta 0:00:01\r\u001b[K     |█████████████████▍              | 962kB 13.1MB/s eta 0:00:01\r\u001b[K     |█████████████████▋              | 972kB 13.1MB/s eta 0:00:01\r\u001b[K     |█████████████████▉              | 983kB 13.1MB/s eta 0:00:01\r\u001b[K     |██████████████████              | 993kB 13.1MB/s eta 0:00:01\r\u001b[K     |██████████████████▏             | 1.0MB 13.1MB/s eta 0:00:01\r\u001b[K     |██████████████████▍             | 1.0MB 13.1MB/s eta 0:00:01\r\u001b[K     |██████████████████▌             | 1.0MB 13.1MB/s eta 0:00:01\r\u001b[K     |██████████████████▊             | 1.0MB 13.1MB/s eta 0:00:01\r\u001b[K     |███████████████████             | 1.0MB 13.1MB/s eta 0:00:01\r\u001b[K     |███████████████████             | 1.1MB 13.1MB/s eta 0:00:01\r\u001b[K     |███████████████████▎            | 1.1MB 13.1MB/s eta 0:00:01\r\u001b[K     |███████████████████▌            | 1.1MB 13.1MB/s eta 0:00:01\r\u001b[K     |███████████████████▋            | 1.1MB 13.1MB/s eta 0:00:01\r\u001b[K     |███████████████████▉            | 1.1MB 13.1MB/s eta 0:00:01\r\u001b[K     |████████████████████            | 1.1MB 13.1MB/s eta 0:00:01\r\u001b[K     |████████████████████▏           | 1.1MB 13.1MB/s eta 0:00:01\r\u001b[K     |████████████████████▍           | 1.1MB 13.1MB/s eta 0:00:01\r\u001b[K     |████████████████████▋           | 1.1MB 13.1MB/s eta 0:00:01\r\u001b[K     |████████████████████▊           | 1.1MB 13.1MB/s eta 0:00:01\r\u001b[K     |█████████████████████           | 1.2MB 13.1MB/s eta 0:00:01\r\u001b[K     |█████████████████████▏          | 1.2MB 13.1MB/s eta 0:00:01\r\u001b[K     |█████████████████████▎          | 1.2MB 13.1MB/s eta 0:00:01\r\u001b[K     |█████████████████████▌          | 1.2MB 13.1MB/s eta 0:00:01\r\u001b[K     |█████████████████████▊          | 1.2MB 13.1MB/s eta 0:00:01\r\u001b[K     |█████████████████████▉          | 1.2MB 13.1MB/s eta 0:00:01\r\u001b[K     |██████████████████████          | 1.2MB 13.1MB/s eta 0:00:01\r\u001b[K     |██████████████████████▎         | 1.2MB 13.1MB/s eta 0:00:01\r\u001b[K     |██████████████████████▍         | 1.2MB 13.1MB/s eta 0:00:01\r\u001b[K     |██████████████████████▋         | 1.2MB 13.1MB/s eta 0:00:01\r\u001b[K     |██████████████████████▉         | 1.3MB 13.1MB/s eta 0:00:01\r\u001b[K     |███████████████████████         | 1.3MB 13.1MB/s eta 0:00:01\r\u001b[K     |███████████████████████▏        | 1.3MB 13.1MB/s eta 0:00:01\r\u001b[K     |███████████████████████▍        | 1.3MB 13.1MB/s eta 0:00:01\r\u001b[K     |███████████████████████▌        | 1.3MB 13.1MB/s eta 0:00:01\r\u001b[K     |███████████████████████▊        | 1.3MB 13.1MB/s eta 0:00:01\r\u001b[K     |████████████████████████        | 1.3MB 13.1MB/s eta 0:00:01\r\u001b[K     |████████████████████████        | 1.3MB 13.1MB/s eta 0:00:01\r\u001b[K     |████████████████████████▎       | 1.3MB 13.1MB/s eta 0:00:01\r\u001b[K     |████████████████████████▌       | 1.4MB 13.1MB/s eta 0:00:01\r\u001b[K     |████████████████████████▊       | 1.4MB 13.1MB/s eta 0:00:01\r\u001b[K     |████████████████████████▉       | 1.4MB 13.1MB/s eta 0:00:01\r\u001b[K     |█████████████████████████       | 1.4MB 13.1MB/s eta 0:00:01\r\u001b[K     |█████████████████████████▎      | 1.4MB 13.1MB/s eta 0:00:01\r\u001b[K     |█████████████████████████▍      | 1.4MB 13.1MB/s eta 0:00:01\r\u001b[K     |█████████████████████████▋      | 1.4MB 13.1MB/s eta 0:00:01\r\u001b[K     |█████████████████████████▉      | 1.4MB 13.1MB/s eta 0:00:01\r\u001b[K     |██████████████████████████      | 1.4MB 13.1MB/s eta 0:00:01\r\u001b[K     |██████████████████████████▏     | 1.4MB 13.1MB/s eta 0:00:01\r\u001b[K     |██████████████████████████▍     | 1.5MB 13.1MB/s eta 0:00:01\r\u001b[K     |██████████████████████████▌     | 1.5MB 13.1MB/s eta 0:00:01\r\u001b[K     |██████████████████████████▊     | 1.5MB 13.1MB/s eta 0:00:01\r\u001b[K     |███████████████████████████     | 1.5MB 13.1MB/s eta 0:00:01\r\u001b[K     |███████████████████████████     | 1.5MB 13.1MB/s eta 0:00:01\r\u001b[K     |███████████████████████████▎    | 1.5MB 13.1MB/s eta 0:00:01\r\u001b[K     |███████████████████████████▌    | 1.5MB 13.1MB/s eta 0:00:01\r\u001b[K     |███████████████████████████▋    | 1.5MB 13.1MB/s eta 0:00:01\r\u001b[K     |███████████████████████████▉    | 1.5MB 13.1MB/s eta 0:00:01\r\u001b[K     |████████████████████████████    | 1.5MB 13.1MB/s eta 0:00:01\r\u001b[K     |████████████████████████████▏   | 1.6MB 13.1MB/s eta 0:00:01\r\u001b[K     |████████████████████████████▍   | 1.6MB 13.1MB/s eta 0:00:01\r\u001b[K     |████████████████████████████▋   | 1.6MB 13.1MB/s eta 0:00:01\r\u001b[K     |████████████████████████████▊   | 1.6MB 13.1MB/s eta 0:00:01\r\u001b[K     |█████████████████████████████   | 1.6MB 13.1MB/s eta 0:00:01\r\u001b[K     |█████████████████████████████▏  | 1.6MB 13.1MB/s eta 0:00:01\r\u001b[K     |█████████████████████████████▎  | 1.6MB 13.1MB/s eta 0:00:01\r\u001b[K     |█████████████████████████████▌  | 1.6MB 13.1MB/s eta 0:00:01\r\u001b[K     |█████████████████████████████▊  | 1.6MB 13.1MB/s eta 0:00:01\r\u001b[K     |█████████████████████████████▉  | 1.6MB 13.1MB/s eta 0:00:01\r\u001b[K     |██████████████████████████████  | 1.7MB 13.1MB/s eta 0:00:01\r\u001b[K     |██████████████████████████████▎ | 1.7MB 13.1MB/s eta 0:00:01\r\u001b[K     |██████████████████████████████▍ | 1.7MB 13.1MB/s eta 0:00:01\r\u001b[K     |██████████████████████████████▋ | 1.7MB 13.1MB/s eta 0:00:01\r\u001b[K     |██████████████████████████████▉ | 1.7MB 13.1MB/s eta 0:00:01\r\u001b[K     |███████████████████████████████ | 1.7MB 13.1MB/s eta 0:00:01\r\u001b[K     |███████████████████████████████▏| 1.7MB 13.1MB/s eta 0:00:01\r\u001b[K     |███████████████████████████████▍| 1.7MB 13.1MB/s eta 0:00:01\r\u001b[K     |███████████████████████████████▌| 1.7MB 13.1MB/s eta 0:00:01\r\u001b[K     |███████████████████████████████▊| 1.8MB 13.1MB/s eta 0:00:01\r\u001b[K     |████████████████████████████████| 1.8MB 13.1MB/s eta 0:00:01\r\u001b[K     |████████████████████████████████| 1.8MB 13.1MB/s \n",
            "\u001b[?25hRequirement already satisfied: tqdm>=4.27 in /usr/local/lib/python3.6/dist-packages (from transformers) (4.41.1)\n",
            "Requirement already satisfied: dataclasses; python_version < \"3.7\" in /usr/local/lib/python3.6/dist-packages (from transformers) (0.8)\n",
            "Collecting tokenizers==0.9.4\n",
            "\u001b[?25l  Downloading https://files.pythonhosted.org/packages/0f/1c/e789a8b12e28be5bc1ce2156cf87cb522b379be9cadc7ad8091a4cc107c4/tokenizers-0.9.4-cp36-cp36m-manylinux2010_x86_64.whl (2.9MB)\n",
            "\u001b[K     |████████████████████████████████| 2.9MB 63.3MB/s \n",
            "\u001b[?25hCollecting sacremoses\n",
            "\u001b[?25l  Downloading https://files.pythonhosted.org/packages/7d/34/09d19aff26edcc8eb2a01bed8e98f13a1537005d31e95233fd48216eed10/sacremoses-0.0.43.tar.gz (883kB)\n",
            "\u001b[K     |████████████████████████████████| 890kB 52.9MB/s \n",
            "\u001b[?25hRequirement already satisfied: importlib-metadata; python_version < \"3.8\" in /usr/local/lib/python3.6/dist-packages (from transformers) (3.4.0)\n",
            "Requirement already satisfied: requests in /usr/local/lib/python3.6/dist-packages (from transformers) (2.23.0)\n",
            "Requirement already satisfied: filelock in /usr/local/lib/python3.6/dist-packages (from transformers) (3.0.12)\n",
            "Requirement already satisfied: regex!=2019.12.17 in /usr/local/lib/python3.6/dist-packages (from transformers) (2019.12.20)\n",
            "Requirement already satisfied: packaging in /usr/local/lib/python3.6/dist-packages (from transformers) (20.8)\n",
            "Requirement already satisfied: numpy in /usr/local/lib/python3.6/dist-packages (from transformers) (1.19.5)\n",
            "Requirement already satisfied: six in /usr/local/lib/python3.6/dist-packages (from sacremoses->transformers) (1.15.0)\n",
            "Requirement already satisfied: click in /usr/local/lib/python3.6/dist-packages (from sacremoses->transformers) (7.1.2)\n",
            "Requirement already satisfied: joblib in /usr/local/lib/python3.6/dist-packages (from sacremoses->transformers) (1.0.0)\n",
            "Requirement already satisfied: typing-extensions>=3.6.4; python_version < \"3.8\" in /usr/local/lib/python3.6/dist-packages (from importlib-metadata; python_version < \"3.8\"->transformers) (3.7.4.3)\n",
            "Requirement already satisfied: zipp>=0.5 in /usr/local/lib/python3.6/dist-packages (from importlib-metadata; python_version < \"3.8\"->transformers) (3.4.0)\n",
            "Requirement already satisfied: chardet<4,>=3.0.2 in /usr/local/lib/python3.6/dist-packages (from requests->transformers) (3.0.4)\n",
            "Requirement already satisfied: certifi>=2017.4.17 in /usr/local/lib/python3.6/dist-packages (from requests->transformers) (2020.12.5)\n",
            "Requirement already satisfied: idna<3,>=2.5 in /usr/local/lib/python3.6/dist-packages (from requests->transformers) (2.10)\n",
            "Requirement already satisfied: urllib3!=1.25.0,!=1.25.1,<1.26,>=1.21.1 in /usr/local/lib/python3.6/dist-packages (from requests->transformers) (1.24.3)\n",
            "Requirement already satisfied: pyparsing>=2.0.2 in /usr/local/lib/python3.6/dist-packages (from packaging->transformers) (2.4.7)\n",
            "Building wheels for collected packages: sacremoses\n",
            "  Building wheel for sacremoses (setup.py) ... \u001b[?25l\u001b[?25hdone\n",
            "  Created wheel for sacremoses: filename=sacremoses-0.0.43-cp36-none-any.whl size=893261 sha256=4a9627444457d8dabf63c113c5688aba3605e967b85a8d549e260d45352147a7\n",
            "  Stored in directory: /root/.cache/pip/wheels/29/3c/fd/7ce5c3f0666dab31a50123635e6fb5e19ceb42ce38d4e58f45\n",
            "Successfully built sacremoses\n",
            "Installing collected packages: tokenizers, sacremoses, transformers\n",
            "Successfully installed sacremoses-0.0.43 tokenizers-0.9.4 transformers-4.2.2\n",
            "Requirement already satisfied: imbalanced-learn in /usr/local/lib/python3.6/dist-packages (0.4.3)\n",
            "Requirement already satisfied: scipy>=0.13.3 in /usr/local/lib/python3.6/dist-packages (from imbalanced-learn) (1.4.1)\n",
            "Requirement already satisfied: numpy>=1.8.2 in /usr/local/lib/python3.6/dist-packages (from imbalanced-learn) (1.19.5)\n",
            "Requirement already satisfied: scikit-learn>=0.20 in /usr/local/lib/python3.6/dist-packages (from imbalanced-learn) (0.22.2.post1)\n",
            "Requirement already satisfied: joblib>=0.11 in /usr/local/lib/python3.6/dist-packages (from scikit-learn>=0.20->imbalanced-learn) (1.0.0)\n",
            "Collecting kobert-transformers\n",
            "  Downloading https://files.pythonhosted.org/packages/f3/6d/f4e21513c1f26cacd68c144a428ccaa90dd92d85985e878976ebbaf06624/kobert_transformers-0.4.1-py3-none-any.whl\n",
            "Requirement already satisfied: transformers>=2.9.1 in /usr/local/lib/python3.6/dist-packages (from kobert-transformers) (4.2.2)\n",
            "Requirement already satisfied: torch>=1.1.0 in /usr/local/lib/python3.6/dist-packages (from kobert-transformers) (1.7.0+cu101)\n",
            "Requirement already satisfied: tokenizers==0.9.4 in /usr/local/lib/python3.6/dist-packages (from transformers>=2.9.1->kobert-transformers) (0.9.4)\n",
            "Requirement already satisfied: importlib-metadata; python_version < \"3.8\" in /usr/local/lib/python3.6/dist-packages (from transformers>=2.9.1->kobert-transformers) (3.4.0)\n",
            "Requirement already satisfied: tqdm>=4.27 in /usr/local/lib/python3.6/dist-packages (from transformers>=2.9.1->kobert-transformers) (4.41.1)\n",
            "Requirement already satisfied: regex!=2019.12.17 in /usr/local/lib/python3.6/dist-packages (from transformers>=2.9.1->kobert-transformers) (2019.12.20)\n",
            "Requirement already satisfied: requests in /usr/local/lib/python3.6/dist-packages (from transformers>=2.9.1->kobert-transformers) (2.23.0)\n",
            "Requirement already satisfied: packaging in /usr/local/lib/python3.6/dist-packages (from transformers>=2.9.1->kobert-transformers) (20.8)\n",
            "Requirement already satisfied: numpy in /usr/local/lib/python3.6/dist-packages (from transformers>=2.9.1->kobert-transformers) (1.19.5)\n",
            "Requirement already satisfied: dataclasses; python_version < \"3.7\" in /usr/local/lib/python3.6/dist-packages (from transformers>=2.9.1->kobert-transformers) (0.8)\n",
            "Requirement already satisfied: filelock in /usr/local/lib/python3.6/dist-packages (from transformers>=2.9.1->kobert-transformers) (3.0.12)\n",
            "Requirement already satisfied: sacremoses in /usr/local/lib/python3.6/dist-packages (from transformers>=2.9.1->kobert-transformers) (0.0.43)\n",
            "Requirement already satisfied: typing-extensions in /usr/local/lib/python3.6/dist-packages (from torch>=1.1.0->kobert-transformers) (3.7.4.3)\n",
            "Requirement already satisfied: future in /usr/local/lib/python3.6/dist-packages (from torch>=1.1.0->kobert-transformers) (0.16.0)\n",
            "Requirement already satisfied: zipp>=0.5 in /usr/local/lib/python3.6/dist-packages (from importlib-metadata; python_version < \"3.8\"->transformers>=2.9.1->kobert-transformers) (3.4.0)\n",
            "Requirement already satisfied: urllib3!=1.25.0,!=1.25.1,<1.26,>=1.21.1 in /usr/local/lib/python3.6/dist-packages (from requests->transformers>=2.9.1->kobert-transformers) (1.24.3)\n",
            "Requirement already satisfied: certifi>=2017.4.17 in /usr/local/lib/python3.6/dist-packages (from requests->transformers>=2.9.1->kobert-transformers) (2020.12.5)\n",
            "Requirement already satisfied: chardet<4,>=3.0.2 in /usr/local/lib/python3.6/dist-packages (from requests->transformers>=2.9.1->kobert-transformers) (3.0.4)\n",
            "Requirement already satisfied: idna<3,>=2.5 in /usr/local/lib/python3.6/dist-packages (from requests->transformers>=2.9.1->kobert-transformers) (2.10)\n",
            "Requirement already satisfied: pyparsing>=2.0.2 in /usr/local/lib/python3.6/dist-packages (from packaging->transformers>=2.9.1->kobert-transformers) (2.4.7)\n",
            "Requirement already satisfied: six in /usr/local/lib/python3.6/dist-packages (from sacremoses->transformers>=2.9.1->kobert-transformers) (1.15.0)\n",
            "Requirement already satisfied: joblib in /usr/local/lib/python3.6/dist-packages (from sacremoses->transformers>=2.9.1->kobert-transformers) (1.0.0)\n",
            "Requirement already satisfied: click in /usr/local/lib/python3.6/dist-packages (from sacremoses->transformers>=2.9.1->kobert-transformers) (7.1.2)\n",
            "Installing collected packages: kobert-transformers\n",
            "Successfully installed kobert-transformers-0.4.1\n",
            "Collecting sentencepiece\n",
            "\u001b[?25l  Downloading https://files.pythonhosted.org/packages/14/67/e42bd1181472c95c8cda79305df848264f2a7f62740995a46945d9797b67/sentencepiece-0.1.95-cp36-cp36m-manylinux2014_x86_64.whl (1.2MB)\n",
            "\u001b[K     |████████████████████████████████| 1.2MB 13.1MB/s \n",
            "\u001b[?25hInstalling collected packages: sentencepiece\n",
            "Successfully installed sentencepiece-0.1.95\n"
          ],
          "name": "stdout"
        }
      ]
    },
    {
      "cell_type": "code",
      "metadata": {
        "colab": {
          "base_uri": "https://localhost:8080/"
        },
        "id": "BszE_y5aV38K",
        "outputId": "06d62267-1df1-4e47-ec38-ee8eade776cf"
      },
      "source": [
        "import pandas as pd\n",
        "import numpy as np\n",
        "import re\n",
        "import torch\n",
        "import torch.nn as nn\n",
        "import torch.nn.functional as F\n",
        "import os\n",
        "import torchtext\n",
        "from google.colab import drive\n",
        "from transformers import AdamW,get_linear_schedule_with_warmup,get_constant_schedule_with_warmup\n",
        "import time\n",
        "import datetime\n",
        "from torch.utils.data import TensorDataset, DataLoader\n",
        "from pandas import DataFrame as df\n",
        "import time,datetime\n",
        "from sklearn.metrics import classification_report\n",
        "from tqdm import tqdm\n",
        "drive.mount('/content/gdrive')\n",
        "os.chdir('./gdrive/My Drive/con')\n",
        "import copy\n",
        "from kobert_transformers import get_kobert_model,get_tokenizer"
      ],
      "execution_count": 2,
      "outputs": [
        {
          "output_type": "stream",
          "text": [
            "Mounted at /content/gdrive\n"
          ],
          "name": "stdout"
        }
      ]
    },
    {
      "cell_type": "markdown",
      "metadata": {
        "id": "eYUGCgVJicnh"
      },
      "source": [
        "# 불러오기"
      ]
    },
    {
      "cell_type": "code",
      "metadata": {
        "id": "OqFM6pjxILt9"
      },
      "source": [
        "test_data = pd.read_csv('./news_test (1).csv')"
      ],
      "execution_count": 3,
      "outputs": []
    },
    {
      "cell_type": "markdown",
      "metadata": {
        "id": "ZW7Rkg8KLZyc"
      },
      "source": [
        "## 시간 측정 시작"
      ]
    },
    {
      "cell_type": "code",
      "metadata": {
        "id": "u1icEooALYQc"
      },
      "source": [
        "import time \r\n",
        "now = time.time()"
      ],
      "execution_count": 4,
      "outputs": []
    },
    {
      "cell_type": "markdown",
      "metadata": {
        "id": "2ogmncfkiqA5"
      },
      "source": [
        "# 모델"
      ]
    },
    {
      "cell_type": "code",
      "metadata": {
        "id": "JRU80es5SgDl"
      },
      "source": [
        "class kobert_classifier(nn.Module):\n",
        "    def __init__(self, kobert):\n",
        "        super().__init__()\n",
        "        self.bert = kobert\n",
        "        self.classifier = nn.Linear(768+3,2)\n",
        "    def forward(self,input_ids,attention_mask,length, longer, shorter):\n",
        "        output = self.bert.forward(input_ids = input_ids, attention_mask = attention_mask)\n",
        "        input = torch.cat([output.pooler_output, length.unsqueeze(-1),longer.unsqueeze(-1) ,shorter.unsqueeze(-1)],-1) # bs, 768\n",
        "        predict = self.classifier.forward(input)\n",
        "        return predict"
      ],
      "execution_count": 5,
      "outputs": []
    },
    {
      "cell_type": "markdown",
      "metadata": {
        "id": "BwbPmOWFJ5Jc"
      },
      "source": [
        "# 전처리"
      ]
    },
    {
      "cell_type": "code",
      "metadata": {
        "colab": {
          "base_uri": "https://localhost:8080/",
          "height": 215,
          "referenced_widgets": [
            "4b2a89c669014aff88ac4425692fc025",
            "cff732df4f4b47c58d6d141621acf16b",
            "45d989f253fc47289c8d03abcfb154a0",
            "7b92d12745504d21993d4110e3d684d3",
            "481acef03bee4069b810b3b6e0e1c36c",
            "6752a93015784000af14c08ca37383a7",
            "f890d43ad2e94ca98aa9b112c258d4f1",
            "9f264dfa1985487eaff9e27c11554bc7",
            "8fe5f6c014d34ba094c3141f43a071fd",
            "21a51e00b62749e79495417ff72472ae",
            "4d9b99f8bf8c40928ba13653fc948c01",
            "608bf043949f47d1a2e420769434995a",
            "217510a428f541eebeae4c8c2a3e8e60",
            "aa8e5efac63543d7973ea1dc3abd6b02",
            "f160101ac8214bbd92f3b714ec99cc04",
            "682e2eb359854150ac7c6c35d69412cb",
            "d6bfc8487a6c495cb16d46e1d00a5b34",
            "2f08b13e518849ba9c3cfd26f8dc7119",
            "260a0d1622724662845e0432a3c6489f",
            "606bf1600cde42978722427646bc9fa7",
            "1409aa68e1c44f78adcb8370f3e2d0b7",
            "b8c48883b72e4f5ebfdcfed7409a02d6",
            "2531d7afa20647baad603b4e568c6998",
            "dd701d6656934760baab8780fd6970ba",
            "80b28796973f43358b43ffcc2f77895c",
            "3a1282a88871406ebb4f0509332a3020",
            "a6b5c0074f16404292ae981008589c9f",
            "c4f5c49ea6834a33bed83850d04a3eca",
            "36ba0e3d4a8f4bc8a5051b9e6915d545",
            "62380ed204ec4f2db434c6546c3a6e6e",
            "47cefd163a6f4cb6a8c92373a1b5252e",
            "dce22d8afbaf42c5b0487494e082f529"
          ]
        },
        "id": "jF5S1HKjK9It",
        "outputId": "3571bf0e-a725-46ba-dbab-520299d643aa"
      },
      "source": [
        "tokenizer = get_tokenizer()\r\n",
        "kobert = get_kobert_model()"
      ],
      "execution_count": 6,
      "outputs": [
        {
          "output_type": "display_data",
          "data": {
            "application/vnd.jupyter.widget-view+json": {
              "model_id": "4b2a89c669014aff88ac4425692fc025",
              "version_minor": 0,
              "version_major": 2
            },
            "text/plain": [
              "HBox(children=(FloatProgress(value=0.0, description='Downloading', max=371391.0, style=ProgressStyle(descripti…"
            ]
          },
          "metadata": {
            "tags": []
          }
        },
        {
          "output_type": "stream",
          "text": [
            "\n"
          ],
          "name": "stdout"
        },
        {
          "output_type": "display_data",
          "data": {
            "application/vnd.jupyter.widget-view+json": {
              "model_id": "8fe5f6c014d34ba094c3141f43a071fd",
              "version_minor": 0,
              "version_major": 2
            },
            "text/plain": [
              "HBox(children=(FloatProgress(value=0.0, description='Downloading', max=77779.0, style=ProgressStyle(descriptio…"
            ]
          },
          "metadata": {
            "tags": []
          }
        },
        {
          "output_type": "stream",
          "text": [
            "\n"
          ],
          "name": "stdout"
        },
        {
          "output_type": "display_data",
          "data": {
            "application/vnd.jupyter.widget-view+json": {
              "model_id": "d6bfc8487a6c495cb16d46e1d00a5b34",
              "version_minor": 0,
              "version_major": 2
            },
            "text/plain": [
              "HBox(children=(FloatProgress(value=0.0, description='Downloading', max=426.0, style=ProgressStyle(description_…"
            ]
          },
          "metadata": {
            "tags": []
          }
        },
        {
          "output_type": "stream",
          "text": [
            "\n"
          ],
          "name": "stdout"
        },
        {
          "output_type": "display_data",
          "data": {
            "application/vnd.jupyter.widget-view+json": {
              "model_id": "80b28796973f43358b43ffcc2f77895c",
              "version_minor": 0,
              "version_major": 2
            },
            "text/plain": [
              "HBox(children=(FloatProgress(value=0.0, description='Downloading', max=368792146.0, style=ProgressStyle(descri…"
            ]
          },
          "metadata": {
            "tags": []
          }
        },
        {
          "output_type": "stream",
          "text": [
            "\n"
          ],
          "name": "stdout"
        }
      ]
    },
    {
      "cell_type": "code",
      "metadata": {
        "colab": {
          "base_uri": "https://localhost:8080/"
        },
        "id": "-E5ylxYhJ3Kk",
        "outputId": "f4c62ac0-9a7b-4538-dee4-b92ab6ebbfca"
      },
      "source": [
        "def remove_stopword(data,stopword_list):\r\n",
        "    pattern =''\r\n",
        "    for i in stopword_list:\r\n",
        "        pattern+='%s|'%i\r\n",
        "    return re.sub(pattern[:-1],'',data)\r\n",
        "# 대괄호 안의 문자 제거\r\n",
        "# stop word 제거\r\n",
        "stopword_list = ['재배포 금지','무단배포', '무단전재']\r\n",
        "# 대괄호와 그 안의 내용 제거\r\n",
        "test_data['content'] = test_data['content'].apply(lambda i : re.sub(r'\\[[^)]*\\]', '', i)) \r\n",
        "# 소괄호와 그 안의 내용 제거\r\n",
        "test_data['content'] = test_data['content'].apply(lambda i : re.sub(r'\\([^)]*\\)', '', i)) \r\n",
        "# stop word 제거\r\n",
        "test_data['content'] = test_data['content'].apply(lambda i : remove_stopword(i,stopword_list))\r\n",
        "# 길이\r\n",
        "test_data['length'] = test_data['content'].apply(lambda i : len(tokenizer.encode(i)))"
      ],
      "execution_count": 7,
      "outputs": [
        {
          "output_type": "stream",
          "text": [
            "Token indices sequence length is longer than the specified maximum sequence length for this model (615 > 512). Running this sequence through the model will result in indexing errors\n"
          ],
          "name": "stderr"
        }
      ]
    },
    {
      "cell_type": "markdown",
      "metadata": {
        "id": "1PmkxegGJ_Sd"
      },
      "source": [
        "## BERT에 맞게끔 변경"
      ]
    },
    {
      "cell_type": "code",
      "metadata": {
        "id": "xi762MRCKAvl"
      },
      "source": [
        "# max len으로 자르고, 모자란 부분은 패딩으로 채움\r\n",
        "test_data['ids'] = test_data['content'].apply(lambda i : tokenizer.encode(i,add_special_tokens=True,truncation=True,padding='max_length',max_length=64))\r\n",
        "# attention mask - mask될 부분은 0, 아닌 부분은 1\r\n",
        "test_data['mask']=(torch.tensor(test_data['ids'].tolist()).eq(1)==0).long().tolist()\r\n",
        "# longer\r\n",
        "test_data['longer'] = test_data['length']>512\r\n",
        "# shorter\r\n",
        "test_data['shorter'] = test_data['length']<=512\r\n",
        "test_data['longer'] = test_data['longer'].astype(int)\r\n",
        "test_data['shorter'] = test_data['shorter'].astype(int)"
      ],
      "execution_count": 8,
      "outputs": []
    },
    {
      "cell_type": "code",
      "metadata": {
        "id": "34x_WxI2LoIc"
      },
      "source": [
        "batch_size = 128\r\n",
        "test_data = TensorDataset(torch.LongTensor(test_data['ids'].tolist()), torch.LongTensor(test_data['mask'].tolist()), torch.LongTensor(test_data['length'].tolist()), torch.LongTensor(test_data['longer'].tolist()), torch.LongTensor(test_data['shorter'].tolist()))\r\n",
        "test_dataloader = DataLoader(test_data, batch_size=batch_size,drop_last=False)"
      ],
      "execution_count": 9,
      "outputs": []
    },
    {
      "cell_type": "code",
      "metadata": {
        "colab": {
          "base_uri": "https://localhost:8080/"
        },
        "id": "Wo723AUtLfo8",
        "outputId": "31d3628c-f849-4dde-85ff-d199a0b9f139"
      },
      "source": [
        "# 전처리까지의 걸린 시간\r\n",
        "print(time.time()-now)"
      ],
      "execution_count": 10,
      "outputs": [
        {
          "output_type": "stream",
          "text": [
            "52.553717851638794\n"
          ],
          "name": "stdout"
        }
      ]
    },
    {
      "cell_type": "markdown",
      "metadata": {
        "id": "Bq0Hi__1LLg0"
      },
      "source": [
        "# Model"
      ]
    },
    {
      "cell_type": "code",
      "metadata": {
        "id": "_CQE3818OKZ7"
      },
      "source": [
        "now = time.time()"
      ],
      "execution_count": 11,
      "outputs": []
    },
    {
      "cell_type": "code",
      "metadata": {
        "colab": {
          "base_uri": "https://localhost:8080/"
        },
        "id": "g2wMwNXTLMl0",
        "outputId": "7883dd8a-1a63-4204-99a5-1b532eb70879"
      },
      "source": [
        "device = 'cuda' if torch.cuda.is_available() else 'cpu'\r\n",
        "model = kobert_classifier(kobert).to(device)\r\n",
        "model.load_state_dict(torch.load('./epoch_45_model')) # model load"
      ],
      "execution_count": 12,
      "outputs": [
        {
          "output_type": "execute_result",
          "data": {
            "text/plain": [
              "<All keys matched successfully>"
            ]
          },
          "metadata": {
            "tags": []
          },
          "execution_count": 12
        }
      ]
    },
    {
      "cell_type": "code",
      "metadata": {
        "colab": {
          "base_uri": "https://localhost:8080/"
        },
        "id": "oukNfbCmOM1T",
        "outputId": "0c1d971d-d8dc-404d-d001-9d0d66f3d124"
      },
      "source": [
        "print(time.time()-now)"
      ],
      "execution_count": 13,
      "outputs": [
        {
          "output_type": "stream",
          "text": [
            "12.792293787002563\n"
          ],
          "name": "stdout"
        }
      ]
    },
    {
      "cell_type": "code",
      "metadata": {
        "colab": {
          "base_uri": "https://localhost:8080/"
        },
        "id": "6FUToFHRKMNM",
        "outputId": "c485796a-ffac-433d-98fd-a9d7dffd8c3d"
      },
      "source": [
        "with torch.no_grad():\r\n",
        "    model.eval()\r\n",
        "    Predicted=[]\r\n",
        "    for batch in test_dataloader:\r\n",
        "        batch = tuple(t.to(device) for t in batch)\r\n",
        "        input_ids, attention_mask, length, longer, shorter = batch\r\n",
        "        outputs = model.forward(input_ids, attention_mask, length, longer, shorter)\r\n",
        "        predicted = outputs.argmax(-1).tolist()\r\n",
        "        Predicted.extend(predicted)\r\n",
        "print(time.time()-now)"
      ],
      "execution_count": 14,
      "outputs": [
        {
          "output_type": "stream",
          "text": [
            "156.3186058998108\n"
          ],
          "name": "stdout"
        }
      ]
    }
  ]
}